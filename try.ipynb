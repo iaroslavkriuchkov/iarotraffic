{
 "cells": [
  {
   "cell_type": "code",
   "execution_count": 1,
   "metadata": {},
   "outputs": [],
   "source": [
    "from iarotraffic import tms\n",
    "import iarotraffic\n",
    "\n",
    "tmsf = tms.TrafficMeasurmentStationFinland(7, 255, 2018)"
   ]
  },
  {
   "cell_type": "code",
   "execution_count": 12,
   "metadata": {},
   "outputs": [
    {
     "data": {
      "text/plain": [
       "7"
      ]
     },
     "execution_count": 12,
     "metadata": {},
     "output_type": "execute_result"
    }
   ],
   "source": [
    "tmsf.id"
   ]
  },
  {
   "cell_type": "code",
   "execution_count": 13,
   "metadata": {},
   "outputs": [
    {
     "name": "stdout",
     "output_type": "stream",
     "text": [
      "Help on class TrafficMeasurmentStationFinland in module iarotraffic.tms:\n",
      "\n",
      "class TrafficMeasurmentStationFinland(builtins.object)\n",
      " |  TrafficMeasurmentStationFinland(id, day, year)\n",
      " |  \n",
      " |  A class to represent a Traffic Measurement Station.\n",
      " |  \n",
      " |  ...\n",
      " |  \n",
      " |  Attributes\n",
      " |  ----------\n",
      " |  id : int\n",
      " |      id in the Finnish Road Network\n",
      " |  day_number : int\n",
      " |      ordinal date (1-366, taking into account the leap years, January 1 = 1), when the data was collected\n",
      " |  date : datetime.datetime\n",
      " |      day, when the data was collected, in `YYYY-MM-DD` format. Converted from ``day_number``.\n",
      " |  year : int\n",
      " |      year, when the data was collected\n",
      " |  yearshort : int\n",
      " |      last two digits of the ``year``\n",
      " |  \n",
      " |  Methods defined here:\n",
      " |  \n",
      " |  __init__(self, id, day, year)\n",
      " |      Initialize self.  See help(type(self)) for accurate signature.\n",
      " |  \n",
      " |  ----------------------------------------------------------------------\n",
      " |  Data descriptors defined here:\n",
      " |  \n",
      " |  __dict__\n",
      " |      dictionary for instance variables (if defined)\n",
      " |  \n",
      " |  __weakref__\n",
      " |      list of weak references to the object (if defined)\n",
      "\n"
     ]
    }
   ],
   "source": [
    "type(tmsf.date)\n",
    "\n",
    "help(tms.TrafficMeasurmentStationFinland)"
   ]
  },
  {
   "cell_type": "code",
   "execution_count": 3,
   "metadata": {},
   "outputs": [
    {
     "name": "stdout",
     "output_type": "stream",
     "text": [
      "Download successful - file for the sensor 109 for the day 255 in year 2018.                 Download took 0.5968 seconds\n",
      "Aggregating data for modeling took 0.1034 seconds\n"
     ]
    }
   ],
   "source": [
    "DEF_FILEPATH = './toi'\n",
    "df = iarotraffic.traffic.download_lam_day_report('109', '01', 2018, 255, 5, 23)\n",
    "df_agg = iarotraffic.traffic.fscalc(df, 1)\n",
    "dir1 = df_agg[df_agg.direction == 2]"
   ]
  },
  {
   "cell_type": "code",
   "execution_count": 5,
   "metadata": {},
   "outputs": [
    {
     "data": {
      "text/plain": [
       "pandas.core.series.Series"
      ]
     },
     "execution_count": 5,
     "metadata": {},
     "output_type": "execute_result"
    }
   ],
   "source": [
    "type(dir1.density)"
   ]
  },
  {
   "cell_type": "code",
   "execution_count": 6,
   "metadata": {},
   "outputs": [],
   "source": [
    "tmsf.get_data(dir1.density, dir1.hourlyflow)"
   ]
  },
  {
   "cell_type": "code",
   "execution_count": 8,
   "metadata": {},
   "outputs": [
    {
     "data": {
      "text/plain": [
       "<matplotlib.collections.PathCollection at 0x7ff2880dcb20>"
      ]
     },
     "execution_count": 8,
     "metadata": {},
     "output_type": "execute_result"
    },
    {
     "data": {
      "image/png": "[encoded data removed]",
      "text/plain": [
       "<Figure size 432x288 with 1 Axes>"
      ]
     },
     "metadata": {
      "needs_background": "light"
     },
     "output_type": "display_data"
    }
   ],
   "source": [
    "import matplotlib.pyplot as plt\n",
    "plt.clf()\n",
    "plt.scatter(tmsf.density, tmsf.flow)"
   ]
  }
 ],
 "metadata": {
  "interpreter": {
   "hash": "9628f3a719b972bf98e3228942aa6ae43e1434704d8073eeadca007d68baca06"
  },
  "kernelspec": {
   "display_name": "Python 3.9.7 ('base')",
   "language": "python",
   "name": "python3"
  },
  "language_info": {
   "codemirror_mode": {
    "name": "ipython",
    "version": 3
   },
   "file_extension": ".py",
   "mimetype": "text/x-python",
   "name": "python",
   "nbconvert_exporter": "python",
   "pygments_lexer": "ipython3",
   "version": "3.9.7"
  },
  "orig_nbformat": 4
 },
 "nbformat": 4,
 "nbformat_minor": 2
}
